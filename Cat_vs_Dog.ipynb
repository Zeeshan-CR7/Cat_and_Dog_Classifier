{
  "nbformat": 4,
  "nbformat_minor": 0,
  "metadata": {
    "colab": {
      "name": "Cat_vs_Dog.ipynb",
      "provenance": [],
      "collapsed_sections": []
    },
    "kernelspec": {
      "name": "python3",
      "display_name": "Python 3"
    },
    "language_info": {
      "name": "python"
    },
    "accelerator": "GPU"
  },
  "cells": [
    {
      "cell_type": "code",
      "metadata": {
        "id": "SxQAq8LnolqQ"
      },
      "source": [
        "import tensorflow\n",
        "from tensorflow.keras.models import Sequential\n",
        "from tensorflow.keras.layers import Dense, Dropout, Conv2D, MaxPool2D, Flatten\n",
        "from tensorflow.keras.preprocessing import image\n",
        "from tensorflow.keras.preprocessing.image import ImageDataGenerator"
      ],
      "execution_count": 1,
      "outputs": []
    },
    {
      "cell_type": "code",
      "metadata": {
        "id": "GoGIePAGuKBU"
      },
      "source": [
        "training_path = '/content/drive/MyDrive/Data_sets/Cat_and_Dog/training_set'\n",
        "testing_path = '/content/drive/MyDrive/Data_sets/Cat_and_Dog/test_set'"
      ],
      "execution_count": 2,
      "outputs": []
    },
    {
      "cell_type": "code",
      "metadata": {
        "id": "eUGtMuIKvINK"
      },
      "source": [
        "train_data_gen = ImageDataGenerator(rescale= 1/255, \n",
        "                                    shear_range= 0.2, \n",
        "                                    zoom_range= 0.2, \n",
        "                                    horizontal_flip= True)\n",
        "test_data_gen = ImageDataGenerator(rescale= 1/255)"
      ],
      "execution_count": 3,
      "outputs": []
    },
    {
      "cell_type": "code",
      "metadata": {
        "colab": {
          "base_uri": "https://localhost:8080/"
        },
        "id": "1ZZF2YgawCHN",
        "outputId": "ba0fd2a1-c568-4417-f0b9-f65a091498cf"
      },
      "source": [
        "training_set = train_data_gen.flow_from_directory(training_path,\n",
        "                                                  target_size=(64, 64), \n",
        "                                                  batch_size=32, \n",
        "                                                  class_mode='binary')\n",
        "testing_set = test_data_gen.flow_from_directory(testing_path,\n",
        "                                                  target_size=(64, 64), \n",
        "                                                  batch_size=32, \n",
        "                                                  class_mode='binary')"
      ],
      "execution_count": 4,
      "outputs": [
        {
          "output_type": "stream",
          "name": "stdout",
          "text": [
            "Found 7399 images belonging to 2 classes.\n",
            "Found 2023 images belonging to 2 classes.\n"
          ]
        }
      ]
    },
    {
      "cell_type": "code",
      "metadata": {
        "colab": {
          "base_uri": "https://localhost:8080/"
        },
        "id": "YQ9FSiM6aRwK",
        "outputId": "4592f335-826e-49f2-8ac4-688914c918de"
      },
      "source": [
        "print(type(training_set))\n",
        "print(type(testing_set))"
      ],
      "execution_count": 6,
      "outputs": [
        {
          "output_type": "stream",
          "name": "stdout",
          "text": [
            "<class 'keras.preprocessing.image.DirectoryIterator'>\n",
            "<class 'keras.preprocessing.image.DirectoryIterator'>\n"
          ]
        }
      ]
    },
    {
      "cell_type": "code",
      "metadata": {
        "id": "OEoZsJR4yVGj"
      },
      "source": [
        "training_data = next(training_set)"
      ],
      "execution_count": 7,
      "outputs": []
    },
    {
      "cell_type": "code",
      "metadata": {
        "colab": {
          "base_uri": "https://localhost:8080/"
        },
        "id": "qeWNYInSt2fw",
        "outputId": "a1335d60-740d-45fa-f8b1-53e82eeff41f"
      },
      "source": [
        "training_data[0].shape"
      ],
      "execution_count": 8,
      "outputs": [
        {
          "output_type": "execute_result",
          "data": {
            "text/plain": [
              "(32, 64, 64, 3)"
            ]
          },
          "metadata": {},
          "execution_count": 8
        }
      ]
    },
    {
      "cell_type": "code",
      "metadata": {
        "colab": {
          "base_uri": "https://localhost:8080/"
        },
        "id": "kuHu0F6Tt-79",
        "outputId": "711b3702-0111-4795-bd55-2ddb949a73f1"
      },
      "source": [
        "training_data[1].shape"
      ],
      "execution_count": 9,
      "outputs": [
        {
          "output_type": "execute_result",
          "data": {
            "text/plain": [
              "(32,)"
            ]
          },
          "metadata": {},
          "execution_count": 9
        }
      ]
    },
    {
      "cell_type": "code",
      "metadata": {
        "id": "-7frLYJ-vali"
      },
      "source": [
        "classifier = Sequential()\n",
        "\n",
        "classifier.add(Conv2D(32 , 3 , activation='relu'))\n",
        "classifier.add(MaxPool2D())\n",
        "\n",
        "classifier.add(Conv2D(32*2 , 3 , activation='relu'))\n",
        "classifier.add(MaxPool2D())\n",
        "\n",
        "classifier.add(Flatten())\n",
        "\n",
        "classifier.add(Dense(128 , activation='relu'))\n",
        "classifier.add(Dense(1 , activation='sigmoid'))"
      ],
      "execution_count": 10,
      "outputs": []
    },
    {
      "cell_type": "code",
      "metadata": {
        "id": "D3oDWviwwPvR"
      },
      "source": [
        "classifier.compile(optimizer='adam', loss='binary_crossentropy', metrics='accuracy')"
      ],
      "execution_count": 11,
      "outputs": []
    },
    {
      "cell_type": "code",
      "metadata": {
        "colab": {
          "base_uri": "https://localhost:8080/"
        },
        "id": "KRzHWdBsypaq",
        "outputId": "0ee92685-8271-49ba-97e2-40877148c166"
      },
      "source": [
        "classifier.fit(training_set, epochs=1, validation_data=testing_set)"
      ],
      "execution_count": 12,
      "outputs": [
        {
          "output_type": "stream",
          "name": "stdout",
          "text": [
            "232/232 [==============================] - 4092s 18s/step - loss: 0.6702 - accuracy: 0.5905 - val_loss: 0.6217 - val_accuracy: 0.6649\n"
          ]
        },
        {
          "output_type": "execute_result",
          "data": {
            "text/plain": [
              "<keras.callbacks.History at 0x7f9930395e50>"
            ]
          },
          "metadata": {},
          "execution_count": 12
        }
      ]
    }
  ]
}